{
 "cells": [
  {
   "cell_type": "code",
   "execution_count": 23,
   "metadata": {},
   "outputs": [
    {
     "name": "stdout",
     "output_type": "stream",
     "text": [
      "200 OK\n",
      "El medicamento 1  tiene como id:  8e9683a0-5608-4cf6-8cdc-13cfc199498f\n",
      "El medicamento 2  tiene como id:  f229e866-5775-4e42-a316-8480dd92fec6\n",
      "El medicamento 3  tiene como id:  59a7a4be-8303-4e81-8f0a-5e5751f5c47f\n",
      "El medicamento 4  tiene como id:  2526af53-727b-43fb-bfab-b6ee86367456\n",
      "El medicamento 5  tiene como id:  407c03e2-0e3d-4a03-885b-83441dab041f\n",
      "El medicamento 6  tiene como id:  d08e6fbf-9162-47cd-9cf6-74ea24d48214\n",
      "El medicamento 7  tiene como id:  fd5ccac9-a54a-4284-80c8-a5f035c5d9e6\n",
      "El medicamento 8  tiene como id:  6ab6ed0d-48fc-441d-a2eb-730ee71d6bbb\n",
      "El medicamento 9  tiene como id:  576caff4-53ce-e3e9-e053-2991aa0a2450\n",
      "El medicamento 10  tiene como id:  5b10cd71-5227-436d-8306-8fcaae73220d\n"
     ]
    }
   ],
   "source": [
    "#partimos del mismo código del programa1\n",
    "import http.client\n",
    "import json\n",
    "\n",
    "\n",
    "headers = {'User-Agent': 'http-client'}\n",
    "\n",
    "\n",
    "conn = http.client.HTTPSConnection(\"api.fda.gov\")\n",
    "conn.request(\"GET\", \"/drug/label.json?limit=10\", None, headers) #como buscamos información de \n",
    "                                                                #10 medicamentos ponemos limit=10\n",
    "\n",
    "r1 = conn.getresponse() \n",
    "print(r1.status, r1.reason) \n",
    "\n",
    "repos_raw = r1.read().decode(\"utf-8\")\n",
    "conn.close()\n",
    "\n",
    "repos = json.loads(repos_raw)\n",
    "\n",
    "#itero con un bucle for para acceder a la información de los 10 medicamentos\n",
    "for medicamento in range(10):\n",
    "    datos= repos['results'][medicamento]\n",
    "    print('El medicamento', medicamento+1,' tiene como id: ',datos['id'])"
   ]
  },
  {
   "cell_type": "code",
   "execution_count": null,
   "metadata": {
    "collapsed": true
   },
   "outputs": [],
   "source": []
  }
 ],
 "metadata": {
  "kernelspec": {
   "display_name": "Python 3",
   "language": "python",
   "name": "python3"
  },
  "language_info": {
   "codemirror_mode": {
    "name": "ipython",
    "version": 3
   },
   "file_extension": ".py",
   "mimetype": "text/x-python",
   "name": "python",
   "nbconvert_exporter": "python",
   "pygments_lexer": "ipython3",
   "version": "3.6.1"
  }
 },
 "nbformat": 4,
 "nbformat_minor": 2
}
