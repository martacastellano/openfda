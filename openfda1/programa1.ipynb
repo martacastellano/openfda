{
 "cells": [
  {
   "cell_type": "code",
   "execution_count": 34,
   "metadata": {},
   "outputs": [
    {
     "name": "stdout",
     "output_type": "stream",
     "text": [
      "200 OK\n",
      "El medicamento cuyo identificador es 8e9683a0-5608-4cf6-8cdc-13cfc199498f, es de uso recomendado en caso de USES Boils, Abscess, Otitis y es fabricado por Rxhomeo Private Limited d.b.a. Rxhomeo, Inc.\n"
     ]
    }
   ],
   "source": [
    "#la API REST que utilizaremos es: https://api.fda.gov/drug/label.json\n",
    "#seguimos el modelo del ejercicio 10 del L7\n",
    "#importamos 'http.client' para establecer conexión con FDA y 'json' para obtener la información en formato python\n",
    "\n",
    "import http.client\n",
    "import json\n",
    "\n",
    "\n",
    "headers = {'User-Agent': 'http-client'}\n",
    "\n",
    "conn = http.client.HTTPSConnection(\"api.fda.gov\") #establecemos conexión con el servidor\n",
    "conn.request(\"GET\", \"/drug/label.json\", None, headers) #enviamos un mensaje de solicitud usando el verbo GET\n",
    "\n",
    "r1 = conn.getresponse() #lectura del mensaje\n",
    "print(r1.status, r1.reason) #comprobación de la respuesta --> status: 200 y reason: OK\n",
    "\n",
    "repos_raw = r1.read().decode(\"utf-8\") #lectura del contenido en json y transformación en cadena\n",
    "conn.close()\n",
    "\n",
    "repos = json.loads(repos_raw) #pasamos el fichero a un formato más sencillo para obtener los datos requeridos (diccionario, lista)\n",
    "\n",
    "info=repos['results'][0]\n",
    "print('El medicamento cuyo identificador es '+info['id']+', es de uso recomendado en caso de '+info['purpose'][0]+' y es fabricado por ' +info['openfda']['manufacturer_name'][0]+'.')\n"
   ]
  },
  {
   "cell_type": "code",
   "execution_count": null,
   "metadata": {
    "collapsed": true
   },
   "outputs": [],
   "source": []
  }
 ],
 "metadata": {
  "kernelspec": {
   "display_name": "Python 3",
   "language": "python",
   "name": "python3"
  },
  "language_info": {
   "codemirror_mode": {
    "name": "ipython",
    "version": 3
   },
   "file_extension": ".py",
   "mimetype": "text/x-python",
   "name": "python",
   "nbconvert_exporter": "python",
   "pygments_lexer": "ipython3",
   "version": "3.6.1"
  }
 },
 "nbformat": 4,
 "nbformat_minor": 2
}
